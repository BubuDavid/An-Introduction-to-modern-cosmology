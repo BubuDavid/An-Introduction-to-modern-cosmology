{
 "cells": [
  {
   "cell_type": "markdown",
   "metadata": {},
   "source": [
    "# Chapter 2"
   ]
  },
  {
   "cell_type": "markdown",
   "metadata": {},
   "source": [
    "**2.1 Suppose that the Milky Way galaxy is a typical size, containing say $10^{11}$ stars, and\n",
    "that galaxies are typically separated by a distance of one megaparsec. Estimate the\n",
    "density of the Universe in SI units. How does this compare with the density of the\n",
    "Earth?**\n",
    "\n",
    "We know that $1 M_{\\odot} \\simeq 2 \\times 10^{30}$kg, 1 parsec $\\simeq 3 \\times 10^{16}$m"
   ]
  },
  {
   "cell_type": "markdown",
   "metadata": {},
   "source": [
    "The density of the universe is given by the expression:\n",
    "\\begin{align}\n",
    "\\rho = \\frac{M}{V}    \n",
    "\\end{align}\n",
    "where M is the mass of the Galaxy and V is its volume.\n",
    "- Supose that all of its mass is concentrate in every star (i.e. there's no planets nor gas, etc.) then we can suppose that each galaxy is in the edges of a regular 3D form. For example, a rectangular prism:\n",
    "<img src=\"./assets/problem2.1.PNG\"\n",
    "     alt=\"Markdown Monster icon\"\n",
    "     style=\"width: 500px\" />\n",
    "\n",
    "- The mass is equal to the sum of all star masses $1 M_{\\odot} \\times 10^{11}$ and its volume is given by $V = l\\times h\\times w$, note that $l = h = 1$ and $w = \\frac{10^{11} M_{\\odot}}{4}-1$ Mpc $= 2.5 \\times 10^{10}$Mpc, so $V = 1 \\times 2.5\\times 10^{10}Mpc^{3}$, therefor:\n",
    "\\begin{align}\n",
    "\\rho = \\frac{1\\times 10^{11} M_{\\odot}}{2.5 \\times 10^{10} Mpc^{3}} = 4 \\frac{M_{\\odot}}{Mpc^{3}}\n",
    "\\end{align}\n",
    "\n",
    "Converting this to SI\n",
    "\\begin{align}\n",
    "4 \\frac{M_{\\odot}}{Mpc^{3}} (\\frac{10^{30} kg}{1 M_{\\odot}}) (\\frac{1pc}{3\\times 10^{16}m})^{3} \\approx 1.48\\times 10^{-25} \\frac{kg}{m^{3}}\n",
    "\\end{align}\n",
    "And this is $\\approx 10^{28}$ less dense than the earth."
   ]
  },
  {
   "cell_type": "markdown",
   "metadata": {},
   "source": [
    "**2.2. In the real Universe the expansion is not completely uniform. Rather, galaxies exhibit\n",
    "some random motion relative to the overall Hubble expansion, known as their peculiar\n",
    "velocity and caused by the gravitational pull of their near neighbours. Supposing\n",
    "that a typical (e.g. root mean square) galaxy peculiar velocity is $600kms^{−1}$, how\n",
    "far away would a galaxy have to be before it could be used to determine the Hubble\n",
    "constant to ten per cent accuracy, supposing**\n",
    "\n",
    "**a) the true value of the Hubble constant is $100kms^{-1}Mpc^{-1}$?**\n",
    "\n",
    "**b) the true value of the Hubble constant is $50kms^{−1} Mpc^{−1}$?**\n",
    "\n",
    "Assume in your calculation that the galaxy distance and redshift could be measured\n",
    "exactly. Unfortunately, that is not true of real observations."
   ]
  },
  {
   "cell_type": "markdown",
   "metadata": {},
   "source": [
    "We know that the peculiar velocity of a galaxy only depends of the gravitational pull of their near neighbours, then we can observe galaxies far away to depreciate this peculiar velocity.\n",
    "And we know, by Hublle's law, that:\n",
    "\n",
    "\\begin{align}\n",
    "v_{recession}=H_{0}r\n",
    "\\end{align}\n",
    "\n",
    "But in this problem, they tell us that it is enough to a ten percent of accuracy, note that the absolute value of the speed of that galaxy is:\n",
    "\\begin{align}\n",
    "v_{total} = v_{peculiar} + v_{recession}\n",
    "\\end{align}\n",
    "\n",
    "with\n",
    "\\begin{align}\n",
    "0.1\\times v_{total} = v_{peculiar} = 600kms^{-1}\n",
    "\\end{align}\n",
    "\n",
    "then\n",
    "\\begin{align}\n",
    "v_{total} = 6000 kms^{-1}\n",
    "\\end{align}\n",
    "\n",
    "and we can say that:\n",
    "\\begin{align}\n",
    "0.9 \\times v_{total} = v_{recession} = 5400 kms^{-1} = H_{0} r\n",
    "\\end{align}\n",
    "\n",
    "and finally, calculing r we got:\n",
    "\n",
    "**a**:\n",
    "\\begin{align}\n",
    "r = \\frac{5400 kms^{-1}}{100km^{-1}} = 54 Mpc\n",
    "\\end{align}\n",
    "And\n",
    "\n",
    "**b**:\n",
    "\\begin{align}\n",
    "r = \\frac{5400 kms^{-1}}{50km^{-1}} = 108 Mpc\n",
    "\\end{align}\n"
   ]
  },
  {
   "cell_type": "markdown",
   "metadata": {},
   "source": [
    "**2.3. What evidence can you think of to support the assertion that the Universe is charge\n",
    "neutral, and hence contains an equal number of protons and electrons?**"
   ]
  },
  {
   "cell_type": "markdown",
   "metadata": {},
   "source": [
    "If the universe wouldn't has neutral charge, then, at the beginninng of the universe, the structures that we know that exist, maybe wouldn't exist, cause the most contributing force would be the electromagnetic, instead of gravitional."
   ]
  },
  {
   "cell_type": "markdown",
   "metadata": {},
   "source": [
    "**2.4. The binding energy of the electron in a hydrogen atom is 13.6 eV. What is the frequency\n",
    "of a photon with this energy? At what temperature does the mean photon\n",
    "energy equal this energy?**"
   ]
  },
  {
   "cell_type": "markdown",
   "metadata": {},
   "source": [
    "We know \n",
    "\\begin{align}\n",
    "E=hf\n",
    "\\end{align}\n",
    "so we can calculate f bye doing\n",
    "\\begin{align}\n",
    "f=\\frac{E}{h}\n",
    "\\end{align}\n",
    "where h value is $6.62607004 \\times 10^{-34}$ and we know that $1eV = 1.60218\\times 10^{-19} J$. So we can compute:\n",
    "\\begin{align}\n",
    "f=\\frac{E}{h} = \\frac{13.6 eV \\times 1.60218\\times 10^{-19} J}{1eV \\times 6.62607004 \\times 10^{-34} m^{2} kg / s} = 3.3\\times 10^{15} Hz\n",
    "\\end{align}\n",
    "\n",
    "And the temperature to reach this energy is given by:\n",
    "\\begin{align}\n",
    "T = \\frac{E_{mean}}{3k_{B}}\n",
    "\\end{align}\n",
    "where $k_{B} = 1.381 \\times 10^{-23}JK^{-1}$"
   ]
  },
  {
   "cell_type": "markdown",
   "metadata": {},
   "source": [
    "\\begin{align}\n",
    "T = \\frac{E_{mean}}{3k_{B}} = \\frac{13.6 eV \\times 1.60218\\times 10^{-19} J}{1eV \\times 3 \\times 1.381 \\times 10^{-23}JK^{-1}} = 5259.9 K\n",
    "\\end{align}"
   ]
  },
  {
   "cell_type": "markdown",
   "metadata": {},
   "source": [
    "**2.5. The peak of the energy density distribution of a black-body at $f_{peak} \\simeq 2.8k_{B}T/h$\n",
    "implies that $f_{peak}/T$ is a constant. Evaluate this constant in SI units (see page xiv\n",
    "for useful numbers). The Sun radiates approximately as a black-body with\n",
    "$T_{sun} \\simeq 5800K$. Compute $f_{peak}$ for solar radiation. Where in the electromagnetic\n",
    "spectrum does the peak emission lie?**"
   ]
  },
  {
   "cell_type": "markdown",
   "metadata": {},
   "source": [
    "\\begin{align}\n",
    "\\frac{f_{peak}}{T} =  \\frac{2.8 k_{B}}{h}= \\frac{2.8 \\times 1.381 \\times 10^{-23}JK^{-1}}{6.62607004 \\times 10^{-34} m^{2} kg / s} \\approx \\frac{3.8668 \\times 10^{-23}JK^{-1}}{6.626 \\times 10^{-34}} \\approx 5.8357 \\times 10^{10} Hz K^{-1}\n",
    "\\end{align}\n",
    "And the $f_{peak}^{sun}$ is calculated as next:\n",
    "\\begin{align}\n",
    "f_{peak}^{sun} = \\frac{2.8 k_{B} \\times T}{h} = \\frac{2.8 \\times 5800 K  \\times 1.381 \\times 10^{-23}JK^{-1}}{6.62607004 \\times 10^{-34} m^{2} kg / s} = \\frac{2.2427 \\times 10^{-19} JK^{-1}}{6.62607004 \\times 10^{-34} m^{2} kg / s} = 3.3 \\times 10^{14} Hz\n",
    "\\end{align}\n",
    "\n",
    "If we convert this frequency into wavelength we get\n",
    "\\begin{align}\n",
    "\\lambda = \\frac{c}{f_{peak}^{sun}} = 9.1 \\times 10^{-7}\n",
    "\\end{align}\n",
    "\n",
    "that belongs to near infrarred."
   ]
  },
  {
   "cell_type": "markdown",
   "metadata": {},
   "source": [
    "**2.6. The cosmic microwave background has a black-body spectrum at a temperature of\n",
    "2.725K. Repeat Problem 2.5 to find the peak frequency of its emission, and also\n",
    "find the corresponding wavelength and compare to Figure 2.5. Confirm that the peak\n",
    "emission lies in the microwave part of the electromagnetic spectrum. Finally, compute\n",
    "the total energy density of the microwave background.**"
   ]
  },
  {
   "cell_type": "markdown",
   "metadata": {},
   "source": [
    "Aplying the formula:\n",
    "\\begin{align}\n",
    "f_{peak} = \\frac{2.8 k_{B} \\times T}{h} = \\frac{2.8 \\times 2.725 K  \\times 1.381 \\times 10^{-23}JK^{-1}}{6.62607004 \\times 10^{-34} m^{2} kg / s} = \\frac{1.05 \\times 10^{-22} JK^{-1}}{6.62607004 \\times 10^{-34} m^{2} kg / s} \\approx  1.6 \\times 10^{11} Hz\n",
    "\\end{align}\n",
    "\n",
    "\n",
    "If we convert this frequency into wavelength we get\n",
    "\\begin{align}\n",
    "\\lambda = \\frac{c}{f_{peak}} \\approx 1.9 \\times 10^{-3}\n",
    "\\end{align}\n",
    "\n",
    "that belongs to microwave spectrum. "
   ]
  },
  {
   "cell_type": "markdown",
   "metadata": {},
   "source": [
    "# Chapter 3"
   ]
  },
  {
   "cell_type": "markdown",
   "metadata": {},
   "source": [
    "**4.1. Consider the surface of a two-dimensional sphere of radius R, as illustrated.**\n",
    "![figure 4.3](./assets/figure4.3.png)\n",
    "\n",
    "**Circles are drawn on the sphere which have radius ___r as measured on the surface\n",
    "on the sphere___, centred on the North Pole. Show that the general formula for the\n",
    "circumference c of such a circle, as a function of r, is given by**\n",
    "\\begin{align}\n",
    "c = 2\\pi \\frac{sin\\theta}{\\theta}r = 2\\pi R sin(\\frac{r}{R})\n",
    "\\end{align}\n",
    "\n",
    "**where $\\theta$ is the angle between a line drawn from the centre of the sphere to the North\n",
    "Pole and one drawn to the circle. (Remember that by definition of angles in radians\n",
    "we have r = $\\theta$R.)**\n",
    "\n",
    "**Demonstrate that for small $\\theta$ (i.e. r $\\ll$ R) this gives the normal flat geometry\n",
    "relation. Evaluate the relation for the case when the circle is at the equator.**"
   ]
  },
  {
   "cell_type": "markdown",
   "metadata": {},
   "source": [
    "If we project R, in the **x** plane, we will note that this length its $l = R sin(\\theta)$ and we know that $\\theta = \\frac{r}{R}$, so we have\n",
    "\\begin{align}\n",
    "l = R sin(\\frac{r}{R})\n",
    "\\end{align}\n",
    "\n",
    "where l is the radii of the circles in the figure 4.3, then, we can calculate its circumference by:\n",
    "\\begin{align}\n",
    "c_{l} = 2\\pi R sin(\\frac{r}{R}) = 2 \\pi \\frac{sin(\\theta)}{\\theta} r\n",
    "\\end{align}\n",
    "\n",
    "The last part of this equality, is because $\\theta = \\frac{r}{R}$. And this is what we wanted to prove.\n",
    "\n",
    "\n",
    "The second part is easily demostrated by remembering that $sin\\theta \\approx \\theta$ when $\\theta$ is really small, in this case, if $ r \\ll R$ we can be sure that $sin(\\frac{r}{R}) \\approx \\frac{r}{R}$ and by substituting this in the formula we get:\n",
    "\\begin{align}\n",
    "c = 2\\pi R sin(\\frac{r}{R}) = 2\\pi R\\frac{r}{R} = 2\\pi r \n",
    "\\end{align}\n",
    "and that is the same that in the flat geometry"
   ]
  },
  {
   "cell_type": "markdown",
   "metadata": {},
   "source": [
    "**4.2. Consider the spherical geometry of the previous problem, staying with the two-dimensional\n",
    "analogy to the real Universe. Suppose that galaxies are distributed evenly\n",
    "in such a universe, with a number density n per unit area. Show that the total number\n",
    "N of galaxies inside a radius r is given by**\n",
    "\\begin{align}\n",
    "N = 2 \\pi n R^{2}[1- cos\\frac{r}{R}]\n",
    "\\end{align}\n",
    "\n",
    "**Expand this for r $\\ll$ R to show that the flat space result that the number is $n\\pi r^{2}$ is\n",
    "recovered (remember we are working in only two dimensions). Do you see more or\n",
    "fewer galaxies out to the same radius, if the Universe is spherical rather than flat?**"
   ]
  },
  {
   "cell_type": "markdown",
   "metadata": {},
   "source": [
    "![figure 4.3](./assets/sphere.png)\n",
    "By [Archimedes' Hat-Box Theorem](https://brilliant.org/wiki/surface-area-sphere/#:~:text=A%20sphere%20with%20radius%20r,sphere%20has%20the%20largest%20volume.) and the figure above, we can write:\n",
    "\\begin{align}\n",
    "A = 2\\pi r^{2} \\int^{b}_{a} sin(t)dt = 2\\pi r^{2} [-cos(t)|^{b}_{a}] = 2\\pi r^{2}[cos(a)-cos(b)]\n",
    "\\end{align}\n",
    "and in we case with R, $a = 0$ and $b = \\theta = \\frac{r}{R}$ so we can write that:\n",
    "\\begin{align}\n",
    "A = 2 \\pi R^{2}[1- cos\\frac{r}{R}]\n",
    "\\end{align}\n",
    "and if we divide this by n we have:\n",
    "\\begin{align}\n",
    "N = 2 \\pi n R^{2}[1- cos\\frac{r}{R}]\n",
    "\\end{align}\n",
    "\n",
    "If we make $r \\ll R$ then we can expand cosine as $cos(\\frac{r}{R}) = 1 - \\frac{(\\frac{r}{R})^{2}}{2!}$ and we can rewrite as follow:\n",
    "\\begin{align}\n",
    "N = 2 \\pi n R^{2}[1- 1 + \\frac{(\\frac{r}{R})^{2}}{2!}] = n\\pi r^{2}\n",
    "\\end{align}\n",
    "that is the flat case."
   ]
  },
  {
   "cell_type": "markdown",
   "metadata": {},
   "source": [
    "**4.3. Is it possible for a closed universe to evolve to become an open universe? Give a\n",
    "reason for your answer.**"
   ]
  },
  {
   "cell_type": "markdown",
   "metadata": {},
   "source": [
    "If we talk about observable, I don't think so, but it is possible that we believe that the universe is flat since, the ratio of the expantion would be so big and at our scale we probably  would think that our space is flat, like in the examples above."
   ]
  },
  {
   "cell_type": "code",
   "execution_count": null,
   "metadata": {},
   "outputs": [],
   "source": []
  }
 ],
 "metadata": {
  "kernelspec": {
   "display_name": "Python 3",
   "language": "python",
   "name": "python3"
  },
  "language_info": {
   "codemirror_mode": {
    "name": "ipython",
    "version": 3
   },
   "file_extension": ".py",
   "mimetype": "text/x-python",
   "name": "python",
   "nbconvert_exporter": "python",
   "pygments_lexer": "ipython3",
   "version": "3.8.1"
  }
 },
 "nbformat": 4,
 "nbformat_minor": 4
}
