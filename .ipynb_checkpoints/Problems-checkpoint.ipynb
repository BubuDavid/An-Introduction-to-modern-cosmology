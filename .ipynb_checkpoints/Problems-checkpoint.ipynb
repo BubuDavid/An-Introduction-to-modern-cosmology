{
 "cells": [
  {
   "cell_type": "markdown",
   "metadata": {},
   "source": [
    "# Chapter 2"
   ]
  },
  {
   "cell_type": "markdown",
   "metadata": {},
   "source": [
    "**2.1 Suppose that the Milky Way galaxy is a typical size, containing say $10^{11}$ stars, and\n",
    "that galaxies are typically separated by a distance of one megaparsec. Estimate the\n",
    "density of the Universe in SI units. How does this compare with the density of the\n",
    "Earth?**\n",
    "\n",
    "We know that $1 M_{\\odot} \\simeq 2 \\times 10^{30}$kg, 1 parsec $\\simeq 3 \\times 10^{16}$m"
   ]
  },
  {
   "cell_type": "markdown",
   "metadata": {},
   "source": [
    "The density of the universe is given by the expression:\n",
    "\\begin{align}\n",
    "\\rho = \\frac{M}{V}    \n",
    "\\end{align}\n",
    "where M is the mass of the Galaxy and V is its volume.\n",
    "- Supose that all of its mass is concentrate in every star (i.e. there's no planets nor gas, etc.) then we can suppose that each galaxy is in the edges of a regular 3D form. For example, a rectangular prism:\n",
    "<img src=\"./assets/problem2.1.PNG\"\n",
    "     alt=\"Markdown Monster icon\"\n",
    "     style=\"width: 500px\" />\n",
    "\n",
    "- The mass is equal to the sum of all star masses $1 M_{\\odot} \\times 10^{11}$ and its volume is given by $V = l\\times h\\times w$, note that $l = h = 1$ and $w = \\frac{10^{11} M_{\\odot}}{4}-1$ Mpc $= 2.5 \\times 10^{10}$Mpc, so $V = 1 \\times 2.5\\times 10^{10}Mpc^{3}$, therefor:\n",
    "\\begin{align}\n",
    "\\rho = \\frac{1\\times 10^{11} M_{\\odot}}{2.5 \\times 10^{10} Mpc^{3}} = 4 \\frac{M_{\\odot}}{Mpc^{3}}\n",
    "\\end{align}\n",
    "\n",
    "Converting this to SI\n",
    "\\begin{align}\n",
    "4 \\frac{M_{\\odot}}{Mpc^{3}} (\\frac{10^{30} kg}{1 M_{\\odot}}) (\\frac{1pc}{3\\times 10^{16}m})^{3} \\approx 1.48\\times 10^{-25} \\frac{kg}{m^{3}}\n",
    "\\end{align}\n",
    "And this is $\\approx 10^{28}$ less dense than the earth."
   ]
  },
  {
   "cell_type": "markdown",
   "metadata": {},
   "source": [
    "**2.2. In the real Universe the expansion is not completely uniform. Rather, galaxies exhibit\n",
    "some random motion relative to the overall Hubble expansion, known as their peculiar\n",
    "velocity and caused by the gravitational pull of their near neighbours. Supposing\n",
    "that a typical (e.g. root mean square) galaxy peculiar velocity is $600kms^{−1}$, how\n",
    "far away would a galaxy have to be before it could be used to determine the Hubble\n",
    "constant to ten per cent accuracy, supposing**\n",
    "\n",
    "**a) the true value of the Hubble constant is $100kms^{-1}Mpc^{-1}$**\n",
    "\n",
    "**b) the true value of the Hubble constant is $50kms^{−1} Mpc^{−1}$?**\n",
    "\n",
    "Assume in your calculation that the galaxy distance and redshift could be measured\n",
    "exactly. Unfortunately, that is not true of real observations."
   ]
  },
  {
   "cell_type": "markdown",
   "metadata": {},
   "source": [
    "We know that the peculiar velocity of a galaxy only depends of the gravitational pull of their near neighbours, then we can observe galaxies far away to depreciate this peculiar velocity.\n",
    "And we know, by Hublle's law, that:\n",
    "\n",
    "\\begin{align}\n",
    "v_{recession}=H_{0}r\n",
    "\\end{align}\n",
    "\n",
    "But in this problem, they tell us that it is enough with a ten percent of accuracy, note that the absolute value of the speed of that galaxy is:\n",
    "\\begin{align}\n",
    "v_{total} = v_{peculiar} + v_{recession}\n",
    "\\end{align}\n",
    "\n",
    "with\n",
    "\\begin{align}\n",
    "0.9\\times v_{total} = v_{peculiar} = 600kms^{-1}\n",
    "\\end{align}\n",
    "\n",
    "then\n",
    "\\begin{align}\n",
    "v_{total} = 666.67 kms^{-1}\n",
    "\\end{align}\n",
    "\n",
    "and we can say that:\n",
    "\\begin{align}\n",
    "0.1 \\times v_{total} = v_{recession} = 66.67 kms^{-1} = H_{0} r\n",
    "\\end{align}\n",
    "\n",
    "and finally, calculing r we got:\n",
    "**a**:\n",
    "\\begin{align}\n",
    "r = \\frac{66.67 kms^{-1}}{100km^{-1}} = 0.667 Mpc\n",
    "\\end{align}\n",
    "And\n",
    "**b**:\n",
    "\\begin{align}\n",
    "r = \\frac{66.67 kms^{-1}}{50km^{-1}} = 1.334 Mpc\n",
    "\\end{align}\n"
   ]
  },
  {
   "cell_type": "code",
   "execution_count": null,
   "metadata": {},
   "outputs": [],
   "source": []
  }
 ],
 "metadata": {
  "kernelspec": {
   "display_name": "Python 3",
   "language": "python",
   "name": "python3"
  },
  "language_info": {
   "codemirror_mode": {
    "name": "ipython",
    "version": 3
   },
   "file_extension": ".py",
   "mimetype": "text/x-python",
   "name": "python",
   "nbconvert_exporter": "python",
   "pygments_lexer": "ipython3",
   "version": "3.8.1"
  }
 },
 "nbformat": 4,
 "nbformat_minor": 4
}
