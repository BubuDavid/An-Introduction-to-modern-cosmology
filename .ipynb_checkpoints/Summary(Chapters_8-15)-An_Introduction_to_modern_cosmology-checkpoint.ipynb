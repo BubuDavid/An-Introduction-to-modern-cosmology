{
 "cells": [
  {
   "cell_type": "markdown",
   "metadata": {},
   "source": [
    "## Chapter 9 The Density of the Universe and Dark Matter"
   ]
  },
  {
   "cell_type": "markdown",
   "metadata": {},
   "source": [
    "The characteristic scale for the density in the Universe is the critical density $\\rho_{c}$. It's present value is:\n",
    "\\begin{align}\n",
    "\\rho_{c} = 1.88h^{2} \\times 10^{-26} kg m^{-3} = 2.78h^{-1} \\times 10^{11} \\frac{M_{\\odot}}{(h^{-1}Mpc)^{3}}.\n",
    "\\end{align}\n",
    "\n",
    "An obstacle to comparing the true density to the critical density is the factors of h, which\n",
    "are uncertain. From the crude estimates that a typical galaxy\n",
    "weighs about $10^{11}M_{\\odot}$ and galaxies are typically about a megaparsec apart, we know\n",
    "that the Universe cannot be a long way from the critical density."
   ]
  },
  {
   "cell_type": "markdown",
   "metadata": {},
   "source": [
    "### 9.1.1 Counting stars"
   ]
  },
  {
   "cell_type": "markdown",
   "metadata": {},
   "source": [
    "The simplest thing we can do is look at all the stars within a suitably-large region. This has been done by many researchers, and the\n",
    "answer obtained is that the density in stars is a small fraction of the critical density, around\n",
    "\n",
    "\\begin{align}\n",
    "\\Omega_{stars} = \\frac{\\rho_{stars}}{\\rho_{c}} \\simeq 0.005 \\rightarrow 0.01\n",
    "\\end{align}\n",
    "\n",
    "The estimate is carried out by adding up the light flux; since distances\n",
    "are uncertain by a factor h and the light flux falls off as the square of the distance, the h\n",
    "dependence cancels out of the final answer."
   ]
  },
  {
   "cell_type": "markdown",
   "metadata": {},
   "source": [
    "### 9.1.2 Nucleosynthesis foreshadowed"
   ]
  },
  {
   "cell_type": "markdown",
   "metadata": {},
   "source": [
    "Not all of the material we are able to see is in the form of stars. For example, within clusters\n",
    "of galaxies there is a large amount of gas which is extremely hot and emits in the X-ray\n",
    "region of the spectrum. Another possibility is that a lot of\n",
    "material resides in very low mass stars, which would be too faint to detect. Often discussed\n",
    "are brown dwarfs (sometimes called Jupiters), which are ‘stars’ with insufficient material\n",
    "to initiate nuclear burning. Objects with mass less than $0.08M_{\\odot}$ are thought to be in this\n",
    "class. However they cannot contribute substantially to the total density.\n",
    "\n",
    "Anyway, there is a very strong reason to believe that conventional material cannot contribute\n",
    "an entire critical density. That evidence comes from the theory of nucleosynthesis – the formation of light elements – This theory\n",
    "can only match the observed element abundances if the amount of baryonic matter has a\n",
    "density\n",
    "\n",
    "\\begin{align}\n",
    "0.021 \\leqslant \\Omega_{B}h^{2} \\leqslant 0.025\n",
    "\\end{align}\n",
    "\n",
    "In this expression the Hubble constant appears as an additional uncertainty, but the\n",
    "constraint is certainly strong enough to insist that it is not possible to have an entire critical\n",
    "density worth of baryonic matter."
   ]
  },
  {
   "cell_type": "code",
   "execution_count": null,
   "metadata": {},
   "outputs": [],
   "source": []
  }
 ],
 "metadata": {
  "kernelspec": {
   "display_name": "Python 3",
   "language": "python",
   "name": "python3"
  },
  "language_info": {
   "codemirror_mode": {
    "name": "ipython",
    "version": 3
   },
   "file_extension": ".py",
   "mimetype": "text/x-python",
   "name": "python",
   "nbconvert_exporter": "python",
   "pygments_lexer": "ipython3",
   "version": "3.8.1"
  }
 },
 "nbformat": 4,
 "nbformat_minor": 4
}
