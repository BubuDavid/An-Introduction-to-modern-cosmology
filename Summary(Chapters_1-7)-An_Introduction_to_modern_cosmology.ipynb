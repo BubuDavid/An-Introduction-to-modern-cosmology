{
 "cells": [
  {
   "cell_type": "markdown",
   "metadata": {},
   "source": [
    "# An introduction to modern cosmology\n",
    "Third edition, 2015. \n",
    "Andrew Liddle."
   ]
  },
  {
   "cell_type": "markdown",
   "metadata": {},
   "source": [
    "## Chapter 1: A Brief History of Cosmological Ideas"
   ]
  },
  {
   "cell_type": "markdown",
   "metadata": {},
   "source": [
    "The cornerstone of modern cosmology is the belief that the place that we occupy in the\n",
    "Universe is in no way special. This is known as the cosmological principle, and it is an\n",
    "idea which is both powerful and simple.\n",
    "\n",
    "Newton’s theory of gravity put what had been an empirical science (Kepler’s discovery\n",
    "that the planets moved on elliptical orbits) on a solid footing, and it appears that Newton\n",
    "believed that the stars were also suns pretty much like our own, distributed evenly throughout\n",
    "infinite space, in a static configuration. However it seems that Newton was aware that\n",
    "such a static configuration is unstable.\n",
    "\n",
    "Over the next two hundred years, it became increasingly understood that the nearby\n",
    "stars are not evenly distributed, but rather are located in a disk-shaped assembly which we\n",
    "now know as the MilkyWay galaxy.\n",
    "\n",
    "Only in 1952 was it finally demonstrated, by Baade, that the Milky Way is a\n",
    "fairly typical galaxy, leading to the modern view, known as the cosmological principle\n",
    "(or sometimes the Copernican principle), that the Universe looks the same whoever and\n",
    "wherever you are. **No centre**\n",
    "\n",
    "It is important to stress that the cosmological principle isn’t exact. For example, no\n",
    "one thinks that sitting in a lecture theatre is exactly the same as sitting in a bar, and the\n",
    "interior of the Sun is a very different environment from the interstellar regions.\n",
    "\n",
    "The cosmological principle is a property of the global Universe, breaking down\n",
    "if one looks at local phenomena.\n",
    "\n",
    "The Big Bang is a picture of our Universe as an evolving entity, which was very different in\n",
    "the past as compared to the present. Originally, it was forced to compete with a rival idea,\n",
    "the Steady State Universe, which holds that the Universe does not evolve but rather has\n",
    "looked the same forever, with new material being created to fill the gaps as the Universe\n",
    "expands."
   ]
  },
  {
   "cell_type": "markdown",
   "metadata": {},
   "source": [
    "## Chapter 2: Observational Overview"
   ]
  },
  {
   "cell_type": "markdown",
   "metadata": {},
   "source": [
    "One of the great astronomical achievements of the\n",
    "20th century was the exploitation of the full electromagnetic spectrum for astronomical\n",
    "measurements.\n",
    "\n",
    "We are even entering an epoch where we can go beyond the electromagnetic spectrum and receive information of other types. A remarkable feature of observations of a nearby supernova in\n",
    "1987 was that it was also seen through detection of neutrinos, an extraordinarily weakly\n",
    "interacting type of particle normally associated with radioactive decay.Very high energy\n",
    "cosmic rays, consisting of highly-relativistic elementary particles, are now routinely detected,\n",
    "though as yet there is no clear understanding of their astronomical origin."
   ]
  },
  {
   "cell_type": "markdown",
   "metadata": {},
   "source": [
    "### 2.1 In visible light"
   ]
  },
  {
   "cell_type": "markdown",
   "metadata": {},
   "source": [
    "- __Stars__:The Sun is a fairly typical star, with a mass of about 2 × 1030 kilograms. This is known as a solar mass, indicated $M_{\\odot}$, and is a convenient unit for measuring masses. A light year is about $10^{16}$ metres. A parsec equals 3.261 light years.\n",
    "\n",
    "- __Galaxies__: Our Solar System lies some way off-centre in a giant disk structure known as the MilkyWay galaxy. It contains $10^{11}$ (aprox.) of stars, with masses ranging from about a tenth that of our Sun to tens of times larger. At our radius, the galaxy rotates with a period of 200 million years.\n",
    "\n",
    "However, in cosmology the detailed structure of a galaxy is usually irrelevant, and galaxies are normally thought of as point-like objects emitting light, often broken into sub-classes according to colours, luminosities and morphologies.\n",
    "\n",
    "- __The loacl group__: Our galaxy resides within a small concentrated group of galaxies known as the local group.A typical galaxy group occupies a volume of a few cubic megaparsecs.\n",
    "\n",
    "- __Clusters of galaxies, superclusters and voids__: Surveying larger regions of the Universe, say on a scale of hundreds of Mpc, one sees a variety of large-scale structures, as shown in Figure 2.2.\n",
    "\n",
    "    However, most galaxies, sometimes called field galaxies, are not part of a cluster. Galaxy clusters are the largest gravitationally-collapsed objects in the Universe, and they themselves are grouped into superclusters, joined by filaments and walls of galaxies. In between this ‘foamlike’ structure lie large voids, some as large as 50 Mpc across.\n",
    "\n",
    "- __Large-scale smoothness__:  Only once we get to scales of hundreds of megaparsecs or more does the Universe begin to appear smooth, the galaxy superclusters and voids are believed to be the biggest structures in the present Universe."
   ]
  },
  {
   "cell_type": "markdown",
   "metadata": {},
   "source": [
    "<img src=\"./assets/Figure2.2.PNG\"\n",
    "     alt=\"Markdown Monster icon\"\n",
    "     style=\"width: 500px\" />"
   ]
  },
  {
   "cell_type": "markdown",
   "metadata": {},
   "source": [
    "### 2.2 In other wavebands"
   ]
  },
  {
   "cell_type": "markdown",
   "metadata": {},
   "source": [
    "Many wavebands make vital contributions to our understanding, and in particular our best knowledge of cosmology comes not from visible light but from microwaves.\n",
    "- __Microwaves__: For cosmology, this is by far the most important waveband. It was and is one of the most powerful pieces of information in support of the Big Bang theory, around  which cosmology is based. This is now known as the cosmic microwave background or simply CMB.\n",
    "- __Infrared__: Is an excellent way of spotting young galaxies, in which star formation is at an early stage. Infrared is particularly good for looking through the dust in our own Galaxy to see distant objects, as it is absorbed and scattered much less strongly than visible radiation.\n",
    "\n",
    "\n",
    "    Infrared is also vital for studying the most distant galaxies, whose emission has been shifted predominantly into the infrared part of the spectrum by the expansion of the Universe after the light was emitted\n",
    "    \n",
    "- __X-rays__: in between the galaxies lies gas so hot that it emits in the X-ray part of the spectrum, corresponding to a temperature of tens of millions of Kelvin. This gas is thought to be remnant material from the formation of the galaxies, which failed to collapse to form stars.\n",
    "\n",
    "- __Radio Waves__: A powerful way of gaining high-resolution maps of distant galaxies is by mapping in the radio part of the spectrum."
   ]
  },
  {
   "cell_type": "markdown",
   "metadata": {},
   "source": [
    "### 2.3 Homogeneity and isotropy"
   ]
  },
  {
   "cell_type": "markdown",
   "metadata": {},
   "source": [
    "It is believed that our large-scale Universe possesses two important properties, homogeneity and isotropy. Homogeneity is the statement that the Universe looks the same at each point, while isotropy states that the Universe looks the same in all directions. These do not automatically imply one another.\n",
    "if we require that a distribution is isotropic about every point, then that does enforce homogeneity as well."
   ]
  },
  {
   "cell_type": "markdown",
   "metadata": {},
   "source": [
    "### 2.4 The expansion of the Universe"
   ]
  },
  {
   "cell_type": "markdown",
   "metadata": {},
   "source": [
    "A key piece of observational evidence in cosmology is that almost everything in the Universe\n",
    "appears to be moving away from us, and the further away something is, the more rapid its recession appears to be.\n",
    "\n",
    "Because blue light is at the high-frequency end of the visible spectrum,\n",
    "this is known as a blueshift. If the galaxy is receding, the characteristic lines move\n",
    "towards the red end of the spectrum and the effect is known as a redshift.\n",
    "\n",
    "It turns out that almost all galaxies are receding from us, so the standard terminology\n",
    "is redshift z, defined by\n",
    "\n",
    "\\begin{align}\n",
    "z=\\frac{\\lambda_{obs}-\\lambda_{em}}{\\lambda_{em}}\n",
    "\\end{align}\n",
    "\n",
    "where $\\lambda_{em}$ and $\\lambda_{obs}$ are the wavelengths of light at the points of emission (the galaxy) and observation (us). If a nearby object is receding at a speed v, then its redshift is\n",
    "\\begin{align}\n",
    "z=\\frac{v}{c}\n",
    "\\end{align}\n",
    "\n",
    "where c is the [speed of light](https://www.google.com/search?q=speed+of+light&rlz=1C1CHBF_esMX883MX883&oq=speed+of+&aqs=chrome.0.0l2j69i57j0l5.2056j0j7&sourceid=chrome&ie=UTF-8).\n",
    "\n",
    "Hubble realized that his observations, which were of course much less extensive than\n",
    "those available to us now, showed that the velocity of recession was proportional to the\n",
    "distance of an object from us:\n",
    "\\begin{align}\n",
    "\\overrightarrow{v}=H_{0}\\overrightarrow{r}\n",
    "\\end{align}\n",
    "\n",
    "This is known as **Hubble’s law**, and the constant of proportionality $H_{0}$ is known as **Hubble’s\n",
    "constant**."
   ]
  },
  {
   "cell_type": "markdown",
   "metadata": {},
   "source": [
    "### 2.5 Particles in the Universe"
   ]
  },
  {
   "cell_type": "markdown",
   "metadata": {},
   "source": [
    "#### 2.5.1 What particles are there?"
   ]
  },
  {
   "cell_type": "markdown",
   "metadata": {},
   "source": [
    "Everything in the Universe is made up of fundamental particles, and the behaviour of the\n",
    "Universe as a whole depends on the properties of these particles.\n",
    "\n",
    "Any particle has two contributions to its energy, one being the kinetic energy and the other being the mass–energy, which combine to give\n",
    "\n",
    "\\begin{align}\n",
    "E^{2}_{total}=m^{2}c^{4}+p^{2}c^{2}\n",
    "\\end{align}\n",
    "\n",
    "where m is the particle rest mass and p the particle momentum. If the mass–energy dominates,\n",
    "the particle will be moving at much less than the speed of light, and we say it is\n",
    "**non-relativistic**. \n",
    "\n",
    "- __Baryons__:Ageneral term for particles made up of three quarks is baryons. Of all the possible baryons, only the proton and neutron can be stable, 3 and so these are thought to be the only types of baryonic particle significantly represented in the Universe.\n",
    "- __Raidation__: In the quantum mechanical view of light, it can be thought of as made up of individual particles known as __photons__ indcated by the symbol $\\gamma$, their energy is given by:\n",
    "\\begin{align}\n",
    "E=hf\n",
    "\\end{align}\n",
    "f their frequency and h the [Planck's constant](https://www.google.com/search?q=planck%27s+constant&rlz=1C1CHBF_esMX883MX883&oq=plancks&aqs=chrome.1.69i57j0l7.3071j0j7&sourceid=chrome&ie=UTF-8)\n",
    "- __Neutrinos__: Neutrinos are extremely weakly interacting particles, produced for example in radioactive decay."
   ]
  },
  {
   "cell_type": "markdown",
   "metadata": {},
   "source": [
    "#### 2.5.2 Thermal distributions and the black-body spectrum"
   ]
  },
  {
   "cell_type": "markdown",
   "metadata": {},
   "source": [
    "In a thermal distribution, interactions\n",
    "are frequent, but a balance has been reached so that all interactions proceed equally\n",
    "frequently in both the forward and backward directions, The number of particles of a given energy\n",
    "then depends only on the temperature.\n",
    "\n",
    "The precise distribution depends on whether the particles considered are fermions,\n",
    "which obey the Pauli exclusion principle, or bosons, which do not. In this book the most\n",
    "interesting case is that of photons, which are bosons, and their characteristic distribution\n",
    "at temperature T is the Planck or black-body spectrum. Photons have two possible polarizations, and each has an occupation number per mode $\\aleph$ given by the Planck function\n",
    "\n",
    "\\begin{align}\n",
    "\\aleph=\\frac{1}{exp(hf/k_{B}T)-1}\n",
    "\\end{align}\n",
    "where $k_{b}$ is the Boltzmann constant = $1.381 \\times 10^{-23}JK^{-1}$\n",
    "\n",
    "The **energy density** in a frequency interval $df$ about $f$ is given by:\n",
    "\n",
    "\\begin{align}\n",
    "\\epsilon df=\\frac{8\\pi h}{c^{3}} \\frac{f^{3} df}{exp(hf/k_{B}T)-1}\n",
    "\\end{align}\n",
    "\n",
    "Afurther quantity of interest will be the total energy density of the black-body radiation, over all frequencies.\n",
    "\\begin{align}\n",
    "\\epsilon_{rad}= \\alpha T^{4} = \\frac{\\pi^{2} k^{4}_{B}}{15\\hbar^{3}c^{3}}T^{4}\n",
    "\\end{align}\n",
    "where $\\alpha=7.545\\times 10^{-16}Jm^{-3}K^{-4}$ and $\\hbar=h/2\\pi$\n",
    "\n",
    "\n",
    "the mean energy of a photon in this distribution is $E_{mean} \\simeq 3 k_{B}T$."
   ]
  },
  {
   "cell_type": "markdown",
   "metadata": {},
   "source": [
    "## Chapter 3 Newtonian Gravity"
   ]
  },
  {
   "cell_type": "markdown",
   "metadata": {},
   "source": [
    "In Newtonian gravity all matter attracts, with the force exerted by an object of massM\n",
    "on one of mass m given by the famous relationship\n",
    "\\begin{align}\n",
    "F = \\frac{GMm}{r^{2}}\n",
    "\\end{align}\n",
    "\n",
    "Gravitational potential energy:\n",
    "\\begin{align}\n",
    "V = -\\frac{GMm}{r}\n",
    "\\end{align}\n",
    "\n",
    "In a sphericallysymmetric\n",
    "distribution of matter, a particle feels no force at all from the material at greater\n",
    "radii, and the material at smaller radii gives exactly the force which one would get if all the material was concentrated at the central point."
   ]
  },
  {
   "cell_type": "markdown",
   "metadata": {},
   "source": [
    "### 3.1 The Friedmann equation"
   ]
  },
  {
   "cell_type": "markdown",
   "metadata": {},
   "source": [
    "The Friedmann equation describes the expansion of the Universe, and is therefore the most\n",
    "important equation in cosmology.\n",
    "Let’s consider an observer in a uniform expanding medium, with mass density ρ, the\n",
    "mass density being the mass per unit volume. Then:\n",
    "\\begin{align}\n",
    "F = \\frac{GMm}{r^{2}} = \\frac{4\\pi G\\rho rm}{3}\n",
    "\\end{align}\n",
    "and our particle has a gravitational potential energy\n",
    "\\begin{align}\n",
    "V = -\\frac{GMm}{r} = -\\frac{4\\pi G \\rho r^{2}m}{3}\n",
    "\\end{align}\n",
    "\n",
    "\\begin{align}\n",
    "U = \\frac{1}{2}m\\dot{r^{2}}-\\frac{4\\pi}{3}G\\rho r^{2}m\n",
    "\\end{align}\n",
    "\n",
    "We change the coordinate system to __comoving coordinates__, given by:\n",
    "\\begin{align}\n",
    "\\vec{r}=a(t)\\vec{x}\n",
    "\\end{align}\n",
    "The quantity a(t) is a crucial one, and is known as the scale factor of the Universe. It measures the universal expansion rate.\n",
    "\n",
    "Rewritting, \n",
    "\\begin{align}\n",
    "U = \\frac{1}{2}m\\dot{a^{2}}x^{2}-\\frac{4\\pi}{3}G\\rho a^{2}x^{2}m\n",
    "\\end{align}\n",
    "Multiplying each side by 2/ma2x2 and rearranging the terms then gives\n",
    "\n",
    "\n",
    "\\begin{align}\n",
    "(\\frac{\\dot{a}}{a})^{2}=\\frac{8\\pi G}{3}\\rho - \\frac{kc^{2}}{a^{2}}\n",
    "\\end{align}\n",
    "\n",
    "\n",
    "where $kc^{2} = −2U/mx^{2}$ This is the standard form of the **Friedmann equation**."
   ]
  },
  {
   "cell_type": "markdown",
   "metadata": {},
   "source": [
    "### 3.3 Things that go faster than light"
   ]
  },
  {
   "cell_type": "markdown",
   "metadata": {},
   "source": [
    "A common question that concerns people is whether faraway galaxies are receding from\n",
    "us faster than the speed of light. if we consider galaxies far enough away can we not make the velocity as large as we like,\n",
    "in violation of special relativity?\n",
    "The answer is that indeed in our theoretical predictions distant objects can appear to\n",
    "move away faster than the speed of light. However, it is space itself which is expanding.\n",
    "There is no violation of causality, because no signal can be sent between such galaxies."
   ]
  },
  {
   "cell_type": "markdown",
   "metadata": {},
   "source": [
    "## 3.4 The fluid equation"
   ]
  },
  {
   "cell_type": "markdown",
   "metadata": {},
   "source": [
    "Fundamental though it is, the Friedmann equation is of no use without an equation to describe\n",
    "how the density ρ of material in the Universe is evolving with time. **Derivation in pag 26 of the book**.\n",
    "\n",
    "This is the fluid equation.\n",
    "\\begin{align}\n",
    "\\dot{\\rho}+3\\frac{\\dot{a}}{a}(\\rho+\\frac{p}{c^{2}})=0\n",
    "\\end{align}\n",
    "We only know what $\\rho$ is doing if we knoe what the pressure $p$ is. The usual assumption in\n",
    "cosmology is that there is a unique pressure associated with each density, so that $p\\equiv p(\\rho)$. Such a relationship is known as the **equation of state**. The simplest possibility is that there is no pressure at all, and that particular case is known as (non-relativistic) matter.\n",
    "\n",
    "Once the equation of state is specified, the Friedmann and fluid equations are all we\n",
    "need to describe the evolution of the Universe."
   ]
  },
  {
   "cell_type": "markdown",
   "metadata": {},
   "source": [
    "### 3.5 The acceleration equation"
   ]
  },
  {
   "cell_type": "markdown",
   "metadata": {},
   "source": [
    "The Friedmann and fluid equations can be used to derive a third equation, not independent\n",
    "of the first two of course, which describes the acceleration of the scale factor. Derivation in page 27.\n",
    "\\begin{align}\n",
    "\\frac{\\ddot{a} }{a}=-\\frac{4\\pi G}{3}(\\rho + \\frac{3p}{c^{2}})\n",
    "\\end{align}\n",
    "Notice that if the material has any pressure, this increases the gravitational force, and so\n",
    "further decelerates the expansion. I remind you that there are no forces associated with\n",
    "pressure in an isotropic universe, as there are no pressure gradients."
   ]
  },
  {
   "cell_type": "markdown",
   "metadata": {},
   "source": [
    "## Chapter 4: The Geometry of the Universe"
   ]
  },
  {
   "cell_type": "markdown",
   "metadata": {},
   "source": [
    "**The real meaning of the constant k**\n",
    "\\begin{align}\n",
    "(\\frac{\\dot{a}}{a})^{2}=\\frac{8\\pi G}{3}\\rho - \\frac{kc^{2}}{a^{2}}\n",
    "\\end{align}\n",
    "The true interpretation, apparent in the context of general relativity, is\n",
    "that it measures the curvature of space."
   ]
  },
  {
   "cell_type": "markdown",
   "metadata": {},
   "source": [
    "### 4.1 Flat geometry"
   ]
  },
  {
   "cell_type": "markdown",
   "metadata": {},
   "source": [
    "Euclidean geometry is based on a set of simple axioms, plus one more complex axiom which says that parallel straight lines remain a fixed distance apart. These are the basis for the standard laws of\n",
    "geometry, and lead to the following conclusions:\n",
    "- The angles of a triangle add up to 180°.\n",
    "- The circumference of a circle of radius $r$ is $2\\pi r$\n",
    "\n",
    "Such a geometry might well apply to our own Universe. If that is the case, then the Universe\n",
    "must be infinite in extent.\n",
    "\n",
    "A universe with this geometry is usually called a **flat universe.**"
   ]
  },
  {
   "cell_type": "markdown",
   "metadata": {},
   "source": [
    "### 4.2 Spherical geometry"
   ]
  },
  {
   "cell_type": "markdown",
   "metadata": {},
   "source": [
    "First of all, we know that a perfect sphere looks the same from all points on its surface,\n",
    "so the condition of isotropy is satisfied. But, unlike the case of a flat\n",
    "geometry, the spherical surface is perfectly finite in extent, its area being given by 4πr2.\n",
    "Yet there is no boundary, no ‘edge’ to the surface of the Earth. So it is perfectly possible\n",
    "to have a finite surface which nevertheless has no boundary.\n",
    "\n",
    "- the angles of a triangle add up to more than 180◦\n",
    "- the circumference of a circle is less than 2πr.\n",
    "\n",
    "\n",
    "like the two-dimensional sphere, the possible curvature of three-space is\n",
    "an intrinsic property and there is no actual need of a higher-dimensional space for it to live\n",
    "in.\n",
    "\n",
    "A universe with a spherical geometry, like the surface of the Earth, has a finite size but\n",
    "no boundary. All points are equivalent.\n",
    "\n",
    "A universe with $k > 0$ is normally referred to as a closed universe, because of its finite\n",
    "size."
   ]
  },
  {
   "cell_type": "markdown",
   "metadata": {},
   "source": [
    "### 4.3 Hyperbolic geometry"
   ]
  },
  {
   "cell_type": "markdown",
   "metadata": {},
   "source": [
    "The behaviour of the hyperbolic geometry can be guessed from what has gone before;\n",
    "it is the opposite of the spherical geometry. One finds that\n",
    "- the angles of a triangle add up to less than 180◦.\n",
    "- the circumference of a circle is greater than 2πr.\n",
    "\n",
    "Because parallel lines never meet, such a universe must be infinite in extent, just as in the\n",
    "flat case. The situation k < 0 is known as an open universe."
   ]
  },
  {
   "cell_type": "markdown",
   "metadata": {},
   "source": [
    "| Curvature | Geometry   | Angles of triangle | Circumference of circle | Types of universe |\n",
    "|-----------|------------|--------------------|-------------------------|-------------------|\n",
    "| k > 0     | Spherical  | > 180°             | c < 2 \\pi r             | Closed            |\n",
    "| k = 0     | Flat       | 180°               | c = 2 \\pi r             | Flat              |\n",
    "| k < 0     | Hyperbolic | < 180°             | c > 2 \\pi r             | Open              |"
   ]
  },
  {
   "cell_type": "markdown",
   "metadata": {},
   "source": [
    "## 4.4 Infinite and observable universes"
   ]
  },
  {
   "cell_type": "markdown",
   "metadata": {},
   "source": [
    "What does it actually mean for the Universe to be infinite, as in the flat and open cases?\n",
    "This property is nothing to do with the Universe lasting forever; what it means is that the\n",
    "Universe is already infinite in size even at a finite time. It genuinely goes on forever in all\n",
    "directions. Even despite this, it is still able to expand – the distances between objects can\n",
    "still increase regardless of whether the total Universe is infinite in extent or not.\n",
    "\n",
    "Nevertheless, this description is only a model, and we have no way of discovering\n",
    "whether the actual Universe does indeed go on forever. Cosmologists often talk about a\n",
    "different concept to the entire, possibly infinite, Universe, namely the observable Universe.\n",
    "This corresponds to the portion of the Universe we can actually see, and is limited\n",
    "by the finite speed of light.\n",
    "As the Universe gets older the observable Universe becomes\n",
    "larger and larger, by a combination of two effects. Firstly, the Universe is expanding, and\n",
    "secondly light has had longer to travel across the Universe."
   ]
  },
  {
   "cell_type": "markdown",
   "metadata": {},
   "source": [
    "### 4.6 Three values of k"
   ]
  },
  {
   "cell_type": "markdown",
   "metadata": {},
   "source": [
    "Because there are only three distinct possibilities for the geometry, many people indicate\n",
    "this explicitly by scaling their variables so that k takes on one of only three possible values,\n",
    "namely $k = −1, 0$ or $+1$ \n",
    "\n",
    "This can be achieved by rescaling the scale factor by multiplying it by a fixed constant,\n",
    "namely $\\hat{a} = \\frac{a}{\\sqrt{|k|}}$, in cases where k is non-zero. And we hace the Friedmman Equation like:\n",
    "\n",
    "\\begin{align}\n",
    "(\\frac{\\dot{ \\hat{a} } } { \\hat{a} })^{2} = \\frac{8 \\pi G}{3} \\rho \\mp \\frac{1}{\\hat{a}^{2}}\n",
    "\\end{align}\n",
    "\n",
    "with ‘−’ for positive k, ‘+’ for negative k and the last term absent if k = 0."
   ]
  },
  {
   "cell_type": "markdown",
   "metadata": {},
   "source": [
    "## Chapter 5: Simple Cosmological Models"
   ]
  },
  {
   "cell_type": "markdown",
   "metadata": {},
   "source": [
    "In Chapter 3 we derived the equations satisfied by an expanding isotropic gas. They are the\n",
    "Friedman equation\n",
    "\n",
    "\\begin{align}\n",
    "(\\frac{\\dot{a}}{a})^{2}=\\frac{8\\pi G}{3}\\rho - \\frac{kc^{2}}{a^{2}}\n",
    "\\end{align}\n",
    "\n",
    "which governs the time evolution of the scale factor a(t), and the fluid equation\n",
    "\\begin{align}\n",
    "\\dot{\\rho}+3\\frac{\\dot{a}}{a}(\\rho+\\frac{p}{c^{2}})=0\n",
    "\\end{align}\n",
    "\n",
    "which gives us the evolution of the mass density $\\rho(t)$."
   ]
  },
  {
   "cell_type": "markdown",
   "metadata": {},
   "source": [
    "### 5.1 Hubble’s law"
   ]
  },
  {
   "cell_type": "markdown",
   "metadata": {},
   "source": [
    "The velocity of recession is given by $\\vec{v}=\\frac{d\\vec{r}}{dt}$, in the same direction as $\\vec{r}$, allowing us to write (using comoving coordinates):\n",
    "\\begin{align}\n",
    "\\vec{v}=\\frac{|\\dot{\\vec{r}}|}{|\\vec{r}|}\\vec{r}=\\frac{\\dot{a}}{a}\\vec{r}.\n",
    "\\end{align}\n",
    "Remebering Hubble's law $\\vec{v}=\\vec{r}$ tells us that the proportionality constant, the Hubble parameter, should be identified as \n",
    "\\begin{align}\n",
    "H = \\frac{\\dot{a}}{a}\n",
    "\\end{align}\n",
    "\n",
    "and the value as measured today can be denoted with a subscript ‘0’ as $H_{0}$.\n",
    "\n",
    "using it as a more compact notation, we can write the Friedmann equation as an evolution equation for H(t), as\n",
    "\n",
    "\\begin{align}\n",
    "H^{2}=\\frac{8\\pi G}{3}\\rho - \\frac{k}{a^{2}}\n",
    "\\end{align}\n",
    "\n",
    "Normally the Hubble parameter decreases with\n",
    "time, for instance as the expansion is slowed by the gravitational attraction of the matter in\n",
    "the Universe."
   ]
  },
  {
   "cell_type": "markdown",
   "metadata": {},
   "source": [
    "### 5.2 Expansion and redshift"
   ]
  },
  {
   "cell_type": "markdown",
   "metadata": {},
   "source": [
    "The redshift of spectral lines that we used to justify the assumption of an expanding universe\n",
    "can also be related to the scale factor. We find (Derivation in page 39) that this relationsiph is given by: $\\lambda = ln a + constant$.   \n",
    "Where λ is now the instantaneous wavelength measured at any given time.\n",
    "\n",
    "And the redshift is related to the scale factor by\n",
    "\n",
    "\\begin{align}\n",
    "1+z=\\frac{\\lambda_{r}}{\\lambda_{e}}=\\frac{a(t_{r})}{a(t_{e})}\n",
    "\\end{align}\n",
    "and is normally only used to refer to light received by us at the present epoch."
   ]
  },
  {
   "cell_type": "markdown",
   "metadata": {},
   "source": [
    "### 5.3 Solving the equations"
   ]
  },
  {
   "cell_type": "markdown",
   "metadata": {},
   "source": [
    "In order to discover how the Universe might evolve, we need some idea of what is in it. In a\n",
    "cosmological context, this is done by specifying the relationship between the mass density\n",
    "ρ and the pressure p. This relationship is known as the equation of state. At this point, we\n",
    "shall only consider two possibilities.\n",
    "\n",
    "- __Matter__: In this context, the term ‘matter’ is used by cosmologists as shorthand for ‘nonrelativistic matter’, and refers to any type of material which exerts negligible pressure, p = 0.\n",
    "- __Radiation__: Particles of light move, naturally enough, at the speed of light. Their kinetic\n",
    "energy leads to a pressure force, the radiation pressure, which using the standard\n",
    "theory of radiation can be shown to be $p = \\rho c {2}/3$.\n",
    "\n",
    "*I will concentrate on the case where the constant k in the Friedmann equation is set equal\n",
    "to zero, corresponding to a flat geometry.*"
   ]
  },
  {
   "cell_type": "markdown",
   "metadata": {},
   "source": [
    "#### 5.3.1 Matter"
   ]
  },
  {
   "cell_type": "markdown",
   "metadata": {},
   "source": [
    "We start by solving the fluid equation, having set p = 0 for matter. Solving (page 40) give us:\n",
    "\\begin{align}\n",
    "\\rho \\propto \\frac{1}{a^{3}}\n",
    "\\end{align}\n",
    "It is very natural that if the volume of the Universe increases by a factor\n",
    "of say two, then the density of the matter must fall by the same factor.\n",
    "\n",
    "Having solved for the evolution of the density in terms of a, we must now find how a\n",
    "varies with time by using the Friedmann equation. Solving:\n",
    "\n",
    "\\begin{align}\n",
    "a(t) = (\\frac{t}{t_{0}})^{2/3}\n",
    "\\end{align}\n",
    "\n",
    "\\begin{align}\n",
    "\\rho (t) = (\\frac{\\rho_{0}t_{0}^{2}}{t^{2}})\n",
    "\\end{align}\n",
    "\n",
    "In this solution, the Universe expands forever, but the rate of expansion H(t) decreases\n",
    "with time\n",
    "\n",
    "\\begin{align}\n",
    "H \\equiv \\frac{\\dot{a}}{a} = \\frac{2}{3t}\n",
    "\\end{align}\n",
    "\n",
    "becoming infinitely slow as the Universe becomes infinitely old."
   ]
  },
  {
   "cell_type": "markdown",
   "metadata": {},
   "source": [
    "#### 5.3.2 Radiation"
   ]
  },
  {
   "cell_type": "markdown",
   "metadata": {},
   "source": [
    "Radiation obeys $p = \\rho c^{2}/3$. And solving this (page 41):\n",
    "\\begin{align}\n",
    "\\rho \\propto \\frac{1}{a^{4}}\n",
    "\\end{align}\n",
    "And the solution for a in time is:\n",
    "\\begin{align}\n",
    "a(t)=(\\frac{t}{t_{0}})^{1/2}\n",
    "\\end{align}\n",
    "\\begin{align}\n",
    "\\rho(t) = \\frac{\\rho_{0}t^{2}_{0}}{t^{2}}\n",
    "\\end{align}\n",
    "\n",
    "This is the second classic cosmological solution.\n",
    "\n",
    "Notice that the Universe expands more slowly if radiation dominated than if matter\n",
    "dominated, a consequence of the extra deceleration that the pressure supplies, however in each case the density of material falls off as $t^{2}$.\n",
    "\n",
    "We’d better examine the fall off of the radiation density with volume more carefully.\n",
    "It drops as the fourth power of the scale factor. Three of those powers we have already\n",
    "identified as the increase in volume, leading naturally to a drop in the density. The final power arises from a different effect, the stretching of the wavelength of the light.\n",
    "\n",
    "This lowering of energy is exactly the redshifting effect we use to measure distances."
   ]
  },
  {
   "cell_type": "markdown",
   "metadata": {},
   "source": [
    "#### 5.3.3 Mixtures"
   ]
  },
  {
   "cell_type": "markdown",
   "metadata": {},
   "source": [
    "I’ll consider the simpler situation where one or other of the densities is by far the larger.\n",
    "In that case, we can say that the Friedmann equation is accurately solved by just including\n",
    "the dominant component. That is, we can use the expansion rates we have already\n",
    "found. For example, suppose radiation is much more important. Then one would have\n",
    "<img src=\"./assets/eq5.22.PNG\"\n",
    "     alt=\"Markdown Monster icon\"\n",
    "     style=\"width: 500px\" />\n",
    "     \n",
    "Notice that the density in matter falls off more slowly than that in radiation. So the situation\n",
    "of radiation dominating cannot last forever; however small the matter component might be\n",
    "originally it will eventually come to dominate. We can say that domination of the Universe\n",
    "by radiation is an unstable situation.\n",
    "\n",
    "In the opposite situation, where it is the matter which is dominant, we obtain the solution\n",
    "\n",
    "<img src=\"./assets/eq5.23.PNG\"\n",
    "     alt=\"Markdown Monster icon\"\n",
    "     style=\"width: 500px\" />\n",
    "Matter domination is a stable situation, the matter becoming increasingly dominant over\n",
    "the radiation as time goes by.\n",
    "<img src=\"./assets/Figure5.2.PNG\"\n",
    "     alt=\"Markdown Monster icon\"\n",
    "     style=\"width: 500px\" />\n",
    "\n",
    "Figure 5.2 shows the evolution of a universe containing matter and radiation, with the\n",
    "radiation initially dominating. Eventually the matter comes to dominate, and as it does so\n",
    "the expansion rate speeds up from $a(t) \\propto t^{1/2}$ to the $a(t) \\propto t^{2/3}$ law. It is likely that this is the situation that applied in our Universe until fairly recently."
   ]
  },
  {
   "cell_type": "markdown",
   "metadata": {},
   "source": [
    "### 5.4 Particle number densities"
   ]
  },
  {
   "cell_type": "markdown",
   "metadata": {},
   "source": [
    "An important alternative view of the evolution of particles, is that of the number density n of particles rather than of their mass or energy density.\n",
    "\n",
    "The number density is simply the number of particles in a given volume. If the mean\n",
    "energy per particle (including any mass–energy) is E, then the number density is related\n",
    "to the energy density by\n",
    "\n",
    "\\begin{align}\n",
    "\\epsilon  = n \\times E\n",
    "\\end{align}\n",
    "\n",
    "The number density is useful because in most circumstances particle number is conserved.\n",
    "\n",
    "The only thing that changes the number density, therefore, is that the volume is getting bigger, so that these particles are spread out in a larger volume. This implies\n",
    "\\begin{align}\n",
    "\\epsilon \\propto \\frac{1}{a^{3}}.\n",
    "\\end{align}\n",
    "\n",
    "**This looks encouragingly like the behaviour we have already seen for matter, but it’s also\n",
    "true for radiation as well!**\n",
    "The relation with our previous results is:\n",
    "<img src=\"./assets/eq5.26.PNG\"\n",
    "     alt=\"Markdown Monster icon\"\n",
    "     style=\"width: 500px\" />\n",
    "     \n",
    "But photons lose energy as the Universe expands and their wavelength is stretched, so their\n",
    "energy is $E_{rad}\\propto 1/a$ as we have already seen. So\n",
    "<img src=\"./assets/eq5.27.PNG\"\n",
    "     alt=\"Markdown Monster icon\"\n",
    "     style=\"width: 450px\" />\n",
    "     \n",
    "These are exactly the results we saw before."
   ]
  },
  {
   "cell_type": "markdown",
   "metadata": {},
   "source": [
    "### 5.5 Evolution including curvature"
   ]
  },
  {
   "cell_type": "markdown",
   "metadata": {},
   "source": [
    "The principal question to ask is whether it is possible for the expansion of the Universe\n",
    "to stop, corresponds to H=0. Looking at the Friedmann equation:\n",
    "\\begin{align}\n",
    "H^{2}=\\frac{8\\pi G}{3}\\rho - \\frac{k}{a^{2}}\n",
    "\\end{align}\n",
    "it is immediately apparent that this is not possible if k is negative, for then both the terms on\n",
    "the right-hand side of the Friedmann equation are positive.\n",
    "Consequently, such a universe must expand forever.\n",
    "If $t \\longrightarrow \\infty$ we can tell:\n",
    "\\begin{align}\n",
    "(\\frac{\\dot{a}}{a})^{2}=- \\frac{k}{a^{2}}\n",
    "\\end{align}\n",
    "Cancel off the a2 terms and you’ll find the solution is $a \\propto t$.\n",
    "\n",
    "In this case, the velocity\n",
    "does not tend to zero at late times, but instead becomes constant. This is sometimes known\n",
    "as free expansion.\n",
    "\n",
    "Things are very different if k is positive.In such a universe therefore,\n",
    "the expansion must come to an end after a finite amount of time. As gravitational attraction\n",
    "persists, the recollapse of the Universe becomes inevitable.\n",
    "\n",
    "The collapse phase is just like the expansion in reverse, and so after a finite time\n",
    "the Universe will come to an end in a Big Crunch."
   ]
  },
  {
   "cell_type": "markdown",
   "metadata": {},
   "source": [
    "## Chapter 6: Observational Parameters"
   ]
  },
  {
   "cell_type": "markdown",
   "metadata": {},
   "source": [
    "It is a standard practice to specify cosmological models via a fewparameters, which one\n",
    "then tries to determine observationally to decide which version of the model best describes\n",
    "our Universe."
   ]
  },
  {
   "cell_type": "markdown",
   "metadata": {},
   "source": [
    "### 6.1 The expansion rate $H_{0}$"
   ]
  },
  {
   "cell_type": "markdown",
   "metadata": {},
   "source": [
    "The Hubble constant $H_{0}$ tells us the present expansion rate of the Universe. It also ought to be the easiest to measure, since all galaxies are supposed to\n",
    "obey $v = H_{0}r$. So all we have to do is measure the velocities and distances of as many\n",
    "galaxies as we can and get an answer. However, each measurement has its problems, related them peculiar velocity. If we look far enough away, then the Hubble velocity dominates\n",
    "and the (unknown) peculiar velocity can be ignored. The Hubble constant is usually parametrized as:\n",
    "\\begin{align}\n",
    "H_{0}=100hkms^{-1}Mpc^{-1}.\n",
    "\\end{align}\n",
    "\n",
    "In the 1990s the Hubble Space Telescope Key Project, led by Wendy Freedman, gave\n",
    "\\begin{align}\n",
    "h=0.72 \\pm 0.08\n",
    "\\end{align}\n",
    "where the uncertainty is a one-sigma error. has subsequently\n",
    "been improved to $h = 0.75 \\pm 0.03$ by SHOES (Supernovae and $H_{0}$ for the\n",
    "Equation of State)\n",
    "\n",
    "There is mild tension between these measurements\n",
    "which is currently under investigation, but it seems safe to conclude that h is now quite\n",
    "accurately measured to be 0.70 within at most a few per cent. An object with a recession\n",
    "velocity of $7000kms^{-1}$ would be expected to be at a distance $v/H_{0} = 100 Mpc$. The longstanding problem of determining the overall scale of the Universe is therefore essentially\n",
    "solved!"
   ]
  },
  {
   "cell_type": "markdown",
   "metadata": {},
   "source": [
    "### 6.2 The density parameter $\\Omega_{0}$"
   ]
  },
  {
   "cell_type": "markdown",
   "metadata": {},
   "source": [
    "The density parameter is a very useful way of specifying the density of the Universe.\n",
    "For a given value of H, there is a special value of the density which would be required\n",
    "in order to make the geometry of the Universe flat, k = 0. This is known as the **critical density** $\\rho_{c}$, which we see is given by:\n",
    "\\begin{align}\n",
    "\\rho_{c}(t)=\\frac{3H^{2}}{8 \\pi G}\n",
    "\\end{align}\n",
    "and we have $\\rho_{c}(t_{0})=1.88h^{2} \\times 10^{-26} kgm^{-3} $\n",
    "\n",
    "\n",
    "Let us write that another way, since kilograms and metres are rather small and\n",
    "inconvenient units for dealing with something as big as the Universe. Let’s try measuring\n",
    "masses in solar masses and distances in megaparsecs. It becomes\n",
    "\n",
    "\\begin{align}\n",
    "\\rho_{c}(t_{0})=2.78 h^{-1} \\times 10^{11} M_{\\odot} / (h^{-1}Mpc)^{3}\n",
    "\\end{align}\n",
    "\n",
    "Consequently, rather than quote the density of the Universe directly, it is\n",
    "often useful to quote its value relative to the critical density. This dimensionless quantity\n",
    "is known as the **density parameter** $\\Omega$, defined by\n",
    "\n",
    "\\begin{align}\n",
    "\\Omega(t) \\equiv \\frac{\\rho}{\\rho_{c}}\n",
    "\\end{align}\n",
    "Again, in general $\\Omega$ is a function of time, since both $\\rho$ and $\\rho_{c}$ depend on time.\n",
    "The present value of the density parameter is denoted $\\Omega_{0}$.\n",
    "\n",
    "With this new notation, we can rewrite the Friedmann equation in a very useful form.\n",
    "\\begin{align}\n",
    "H^{2} = \\frac{8 \\pi G }{3}\\rho_{c} \\Omega - \\frac{k}{a^{2}} = H^{2} \\Omega - \\frac{k}{a^{2}}\n",
    "\\end{align}\n",
    "and rearranging gives \n",
    "\\begin{align}\n",
    "\\Omega - 1 = \\frac{k}{a^{2}H^{2}}.\n",
    "\\end{align}\n",
    "\n",
    "We see that the case $\\Omega = 1$ is very special, because in that case k must equal zero and since\n",
    "k is a fixed constant this equation becomes $\\Omega = 1$ for all time. That is true independent\n",
    "of the type of matter we have in the Universe, and this is often called a **critical-density\n",
    "universe**.\n",
    "\n",
    "Our Universe contains several different types of matter, and this notation can be used\n",
    "not just for the total density but also for each individual component of the density, so one\n",
    "talks of $\\Omega_{mat}, \\Omega_{rad}$, etc. Some cosmologists even define a **density parameter** associated with the curvature term, by writing\n",
    "\\begin{align}\n",
    "\\Omega_{k} \\equiv - \\frac{k}{a^{2}H^{2}}\n",
    "\\end{align}\n",
    "\n",
    "This can be positive or negative, and using it the Friedmann equation can be written as\n",
    "\\begin{align}\n",
    "\\Omega + \\Omega_{k} = 1\n",
    "\\end{align}"
   ]
  },
  {
   "cell_type": "markdown",
   "metadata": {},
   "source": [
    "### 6.3 The deceleration parameter $q_{0}$"
   ]
  },
  {
   "cell_type": "markdown",
   "metadata": {},
   "source": [
    "As we’ve discovered, not only is the Universe expanding, but also the rate at which it\n",
    "is expanding, given by the Hubble parameter, is changing with time. The deceleration\n",
    "parameter is a way of quantifying this.\n",
    "\n",
    "The deceleration parameter $q_{0}$ as\n",
    "\\begin{align}\n",
    "q_{0} = - \\frac{\\ddot{a}(t_{0})}{a(t_{0})}\\frac{1}{H_{0}^{2}}=-\\frac{a(t_{0})\\ddot{a}(t_{0})}{\\dot{a}^{2}(t_{0})}\n",
    "\\end{align}\n",
    "\n",
    "The larger the value of $q_{0}$, the more rapid the deceleration. \n",
    "\n",
    "The simplest situation is if the Universe is matter dominated, p = 0.\n",
    "\\begin{align}\n",
    "q_{0} = \\frac{4 \\pi G}{3} \\rho \\frac{3}{8\\pi G \\rho_{c}} = \\frac{\\Omega_{0}}{2}.\n",
    "\\end{align}\n",
    "So in this case, a measurement of $q_{0}$ would immediately tell us $ \\Omega_{0}$.\n",
    "\n",
    "we don’t know everything about the material in the Universe,\n",
    "so $q_{0}$ can provide a new way of looking at the Universe. It can in principle be measured\n",
    "directly by making observations of objects at very large distances, such as the numbers of\n",
    "distant galaxies, because the deceleration governs how large the Universe would be at an\n",
    "earlier time.\n",
    "\n",
    "In the late 1990s, the first convincing measurements of $q_{0}$ were made by two research\n",
    "groups studying distant supernovae of a class known as type Ia. To widespread surprise at the time, the result is that the Universe is\n",
    "accelerating at present, $q_{0} < 0$. None of the cosmological models that we have discussed\n",
    "so far is capable of satisfying this condition. Until the following chapter."
   ]
  },
  {
   "cell_type": "markdown",
   "metadata": {},
   "source": [
    "## Chapter 7: The Cosmological Constant"
   ]
  },
  {
   "cell_type": "markdown",
   "metadata": {},
   "source": [
    "### 7.1 Introducing $\\Lambda$"
   ]
  },
  {
   "cell_type": "markdown",
   "metadata": {},
   "source": [
    "When formulating general relativity, Einstein believed that the Universe was static, In order to arrange a static universe, he proposed a change to the equations, that change was the introduction of a cosmological constant. The cosmological constant $\\Lambda$ appears in the Friedmann equation as an extra term, giving\n",
    "\\begin{align}\n",
    "H^{2}=\\frac{8\\pi G}{3}\\rho - \\frac{k}{a^{2}} + \\frac{\\Lambda}{3}.\n",
    "\\end{align}\n",
    "\n",
    "Here $\\Lambda$ has units $[time]^{−2}$, though some people include an explicit factor of $c^{2}$ in this equation to instead measure it as $[length]^{-2}$.\n",
    "\n",
    "Nowadays, the cosmological constant is most often discussed in the context of universes with the flat Euclidean geometry, k = 0.\n",
    "\n",
    "In the sameway that it is useful to express the density as a fraction of the critical density,\n",
    "it is convenient to define a **density parameter for the cosmological constant** as\n",
    "\\begin{align}\n",
    "\\Omega_{\\Lambda} = \\frac{\\Lambda}{3H^{2}}\n",
    "\\end{align}\n",
    "And we find\n",
    "\\begin{align}\n",
    "\\Omega + \\Omega_{\\Lambda} - 1 = \\frac{k}{a^{2}H^{2}}\n",
    "\\end{align}\n",
    "\n",
    "The condition to have a flat universe, k = 0, generalizes to\n",
    "\\begin{align}\n",
    "\\Omega + \\Omega_{\\Lambda} = 1\n",
    "\\end{align}\n",
    "\n",
    "<img src=\"./assets/table7.1.PNG\"\n",
    "     alt=\"Markdown Monster icon\"\n",
    "     style=\"width: 350px\" />     "
   ]
  },
  {
   "cell_type": "markdown",
   "metadata": {},
   "source": [
    "### 7.2 Fluid description of $\\Lambda$"
   ]
  },
  {
   "cell_type": "markdown",
   "metadata": {},
   "source": [
    "It is often helpful to describe $\\Lambda$ as if it were a fluid with energy density \\rho_{\\Lambda} and pressure $p_{\\Lambda}$.\n",
    "\n",
    "\\begin{align}\n",
    "\\rho_{\\Lambda} \\equiv \\frac{\\Lambda}{8 \\pi G}\n",
    "\\end{align}\n",
    "\n",
    "brings the Friedmann equation into the form\n",
    "\n",
    "\\begin{align}\n",
    "H^{2}=\\frac{8\\pi G}{3}(\\rho + \\rho_{\\Lambda}) - \\frac{k}{a^{2}}\n",
    "\\end{align}\n",
    "This definition also ensures that $\\Omega \\equiv \\rho_{\\Lambda}/ \\rho_{c}$. And, solving from the acceleration equation gives us:\n",
    "\\begin{align}\n",
    "p_{\\Lambda} = -\\rho_{\\Lambda} c^{2}\n",
    "\\end{align}\n",
    "\n",
    "The cosmological constant has a negative effective pressure. This means that as the Universe\n",
    "expands, work is done on the cosmological constant fluid. This permits its energy\n",
    "density to remain constant even though the volume of the Universe is increasing.\n",
    "\n",
    "Concerning its physical interpretation, Λ is sometimes thought of as the energy density\n",
    "of ‘empty’ space. though unfortunately\n",
    "particle physics theories tend to predict that the cosmological constant is far larger than\n",
    "observations allow. This discrepancy is known as the **cosmological constant problem**,\n",
    "and is one of the key unsolved problems in elementary particle physics."
   ]
  },
  {
   "cell_type": "markdown",
   "metadata": {},
   "source": [
    "### 7.3 Cosmological models with $\\Lambda$"
   ]
  },
  {
   "cell_type": "markdown",
   "metadata": {},
   "source": [
    "An excellent assumption is to assume the\n",
    "matter in the present Universe is pressureless. Different models can then be identified by their location in the plane of $\\Omega_{0}$ and $\\Omega_{\\Lambda}$, as shown in Figure 7.1.\n",
    "\n",
    "<img src=\"./assets/Figure7.1.PNG\"\n",
    "     alt=\"Markdown Monster icon\"\n",
    "     style=\"width: 500px\" />\n",
    "\n",
    "We have already seen\n",
    "that the line $\\Omega_{0}+\\Omega_{\\Lambda} = 1$ gives a flat universe, and divides the plane into open and closed cosmologies.\n",
    "\n",
    "To identify where in the plane we have an accelerating universe, we need an expression\n",
    "for the deceleration parameter $q_{0}$. A pressureless universe with a cosmological constant\n",
    "has \n",
    "\\begin{align}\n",
    "q_{0} = \\frac{\\Omega_{0}}{2} - \\Omega_{\\Lambda} \n",
    "\\end{align}\n",
    "\n",
    "so we have acceleration provided $\\Omega_{\\Lambda} > \\Omega_{0}/2$. If we additionally assume that the geometry is flat, this relation simplifies\n",
    "further to $q_{0} = 3\\Omega_{0}/2 - 1$ and we have acceleration if $\\Omega_{\\Lambda} > 1/3$ "
   ]
  }
 ],
 "metadata": {
  "kernelspec": {
   "display_name": "Python 3",
   "language": "python",
   "name": "python3"
  },
  "language_info": {
   "codemirror_mode": {
    "name": "ipython",
    "version": 3
   },
   "file_extension": ".py",
   "mimetype": "text/x-python",
   "name": "python",
   "nbconvert_exporter": "python",
   "pygments_lexer": "ipython3",
   "version": "3.8.1"
  }
 },
 "nbformat": 4,
 "nbformat_minor": 4
}
