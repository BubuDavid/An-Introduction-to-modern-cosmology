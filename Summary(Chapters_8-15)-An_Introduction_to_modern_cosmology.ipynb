{
 "cells": [
  {
   "cell_type": "markdown",
   "metadata": {},
   "source": [
    "## Chapter 9: The Density of the Universe and Dark Matter"
   ]
  },
  {
   "cell_type": "markdown",
   "metadata": {},
   "source": [
    "The characteristic scale for the density in the Universe is the critical density $\\rho_{c}$. It's present value is:\n",
    "\\begin{align}\n",
    "\\rho_{c} = 1.88h^{2} \\times 10^{-26} kg m^{-3} = 2.78h^{-1} \\times 10^{11} \\frac{M_{\\odot}}{(h^{-1}Mpc)^{3}}.\n",
    "\\end{align}\n",
    "\n",
    "An obstacle to comparing the true density to the critical density is the factors of h, which\n",
    "are uncertain. From the crude estimates that a typical galaxy\n",
    "weighs about $10^{11}M_{\\odot}$ and galaxies are typically about a megaparsec apart, we know\n",
    "that the Universe cannot be a long way from the critical density."
   ]
  },
  {
   "cell_type": "markdown",
   "metadata": {},
   "source": [
    "#### 9.1.1 Counting stars"
   ]
  },
  {
   "cell_type": "markdown",
   "metadata": {},
   "source": [
    "The simplest thing we can do is look at all the stars within a suitably-large region. This has been done by many researchers, and the\n",
    "answer obtained is that the density in stars is a small fraction of the critical density, around\n",
    "\n",
    "\\begin{align}\n",
    "\\Omega_{stars} = \\frac{\\rho_{stars}}{\\rho_{c}} \\simeq 0.005 \\rightarrow 0.01\n",
    "\\end{align}\n",
    "\n",
    "The estimate is carried out by adding up the light flux; since distances\n",
    "are uncertain by a factor h and the light flux falls off as the square of the distance, the h\n",
    "dependence cancels out of the final answer."
   ]
  },
  {
   "cell_type": "markdown",
   "metadata": {},
   "source": [
    "#### 9.1.2 Nucleosynthesis foreshadowed"
   ]
  },
  {
   "cell_type": "markdown",
   "metadata": {},
   "source": [
    "Not all of the material we are able to see is in the form of stars. For example, within clusters\n",
    "of galaxies there is a large amount of gas which is extremely hot and emits in the X-ray\n",
    "region of the spectrum. Another possibility is that a lot of\n",
    "material resides in very low mass stars, which would be too faint to detect. Often discussed\n",
    "are brown dwarfs (sometimes called Jupiters), which are ‘stars’ with insufficient material\n",
    "to initiate nuclear burning. Objects with mass less than $0.08M_{\\odot}$ are thought to be in this\n",
    "class. However they cannot contribute substantially to the total density.\n",
    "\n",
    "Anyway, there is a very strong reason to believe that conventional material cannot contribute\n",
    "an entire critical density. That evidence comes from the theory of nucleosynthesis – the formation of light elements – This theory\n",
    "can only match the observed element abundances if the amount of baryonic matter has a\n",
    "density\n",
    "\n",
    "\\begin{align}\n",
    "0.021 \\leqslant \\Omega_{B}h^{2} \\leqslant 0.025\n",
    "\\end{align}\n",
    "\n",
    "In this expression the Hubble constant appears as an additional uncertainty, but the\n",
    "constraint is certainly strong enough to insist that it is not possible to have an entire critical\n",
    "density worth of baryonic matter.\n",
    "\n",
    "Nucleosynthesis also gives a lower bound on $\\Omega_{B}$ which suggests that there should be\n",
    "substantially more baryonic material in the Universe than just the visible stars, probably\n",
    "upwards of 4 per cent of the critical density."
   ]
  },
  {
   "cell_type": "markdown",
   "metadata": {},
   "source": [
    "#### 9.1.3 Galaxy rotation curves"
   ]
  },
  {
   "cell_type": "markdown",
   "metadata": {},
   "source": [
    "In fact, there is considerable dynamical evidence that there is more than just the visible\n",
    "matter. The general argument is to look at motions of various kinds of astronomical object, and assess whether the visible material is sufficient to provide the inferred gravitational force. If it is not, the excess gravitational attraction must be due to extra, invisible, material. \n",
    "\n",
    "Agalaxy rotation curve shows the velocity of matter rotating in a spiral disk, as a function of\n",
    "radius from the centre. The individual stars are on orbits given by Kepler’s law; if a galaxy\n",
    "has mass M(R) within a radius R, then the balance between the centrifugal acceleration\n",
    "and the gravitational pull demands that its velocity obeys\n",
    "\n",
    "\\begin{align}\n",
    "\\frac{v^{2}}{R} = \\frac{GM(R)}{R^{2}}\n",
    "\\end{align}\n",
    "\n",
    "which can be rewritten as\n",
    "\\begin{align}\n",
    "v = \\sqrt{\\frac{GM(R)}{R}}\n",
    "\\end{align}\n",
    "\n",
    "At large distances, enclosing most of the visible part of the galaxy, we expect the mass to be roughly constant and so the rotational velocity should drop off as the square root of R. At such large distances, the rotation is mapped out by interstellar gas, and instead\n",
    "is found to stay more or less constant. The typical velocities at large radii can be three times higher than predicted from the luminous matter, implying ten\n",
    "times more matter than can be directly seen. This is an example of **dark matter**. Standard\n",
    "estimates suggest\n",
    "\\begin{align}\n",
    "\\Omega_{halo} \\simeq 0.1\n",
    "\\end{align}\n",
    "\n",
    "many models based\n",
    "on low-mass stars and/or brown dwarfs have been excluded and it is probably difficult to make up all of the halo with them.\n",
    "A popular alternative is to suggest that this density is\n",
    "in some new form of matter, which is non-baryonic and only interacts extremely weakly\n",
    "with conventional matter.\n",
    "\n",
    "the dark matter should be in the form of a spherical halo, meaning\n",
    "a solid sphere with high density at the centre falling off to smaller values at large radii. The visible Galactic disk and the globular clusters are embedded in this halo, as shown in\n",
    "Figure 9.2.\n",
    "\n",
    "<img src=\"./assets/Figure9.2.PNG\"\n",
    "     alt=\"Markdown Monster icon\"\n",
    "     style=\"width: 500px\" />"
   ]
  },
  {
   "cell_type": "markdown",
   "metadata": {},
   "source": [
    "#### 9.1.4 Galaxy cluster composition"
   ]
  },
  {
   "cell_type": "markdown",
   "metadata": {},
   "source": [
    "Galaxy clusters are the largest gravitationally-collapsed objects in the Universe, and as\n",
    "such are an ideal probe of the different kinds of matter. The visible components of a galaxy\n",
    "cluster are in two main parts. There are the stars within the individual galaxies, and there is diffuse hot gas seen in X-rays which has been heated up\n",
    "through falling into the strong gravitational potential well of the cluster.\n",
    "\n",
    "The hot gas can also be used to estimate the amount of dark matter present. Its high\n",
    "temperature gives it a substantial pressure, but it is confined to the galaxy cluster by gravitational\n",
    "attraction. However, the self-gravity of the gas alone does not provide enough\n",
    "attraction on its own, with the total mass of the cluster inferred to be around ten times\n",
    "larger than the gas mass. It is natural to assume that this extra attraction is given by dark\n",
    "matter, and if so the dark matter density must be around ten times larger than the baryon\n",
    "density given by nucleosynthesis."
   ]
  },
  {
   "cell_type": "markdown",
   "metadata": {},
   "source": [
    "#### 9.1.5 The formation of structure"
   ]
  },
  {
   "cell_type": "markdown",
   "metadata": {},
   "source": [
    "Since the 1980s, it was been widely accepted that the baryonic matter in the Universe\n",
    "would not in itself provide enough gravitational attraction to form the observed structures\n",
    "by the present age of the Universe. This problem can be circumvented by the introduction of\n",
    "non-baryonic dark matter, which provides the extra gravitational force to allow structures to\n",
    "form more quickly and is not inhibited by pressure effects.\n",
    "\n",
    "This view has been vindicated\n",
    "by modern precision measurements of the cosmic microwave background. These are beautifully matched by theoretical predictions, provided the density of the Universe is\n",
    "\\begin{align}\n",
    "\\Omega_{0} \\simeq 0.3,\n",
    "\\end{align}\n",
    "\n",
    "with an uncertainty of just a few per cent. There are presently no working models of structure\n",
    "formation which do not rely on this amount of dark matter."
   ]
  },
  {
   "cell_type": "markdown",
   "metadata": {},
   "source": [
    "#### 9.1.6 The geometry of the Universe and the brightness of supernovae"
   ]
  },
  {
   "cell_type": "markdown",
   "metadata": {},
   "source": [
    "A landmark in cosmology was the first precision measurement of the geometry of the Universe\n",
    "using structures in the cosmic microwave background. Structure formation scenarios predict a characteristic angular size, of around one degree, for features seen in the microwave background.\n",
    "The precise scale depends primarily\n",
    "on the geometry of the Universe, which tells us how the microwave photons travelled\n",
    "from their origin to our location.\n",
    "\n",
    "Experiments were done, and While the precise result does depend somewhat on assumptions, the simplest\n",
    "interpretation of those results is that the Universe is close to spatially flat, with the total\n",
    "density lying within 10 per cent of the critical density.\n",
    "Further and more accurate confirmation of this result has come from the WMAP and\n",
    "Planck satellites, reducing the uncertainty to less than 1 per cent.\n",
    "\n",
    "This microwave background data are especially powerful when combined with the data\n",
    "on supernova brightness described in Chapter 7.\n",
    "The supernova data cross the line of flat geometry almost at a\n",
    "right angle, and hence the region capable of fitting both data sets is extremely small.(Figure A2.4)\n",
    "\n",
    "The favoured values are $\\Omega_{0} \\simeq$ 0.3 and $\\Omega_{\\Lambda} \\simeq$ 0.7, and the former is in excellent agreement with\n",
    "other measures of the matter density given earlier in this section."
   ]
  },
  {
   "cell_type": "markdown",
   "metadata": {},
   "source": [
    "#### 9.1.7 Overview"
   ]
  },
  {
   "cell_type": "markdown",
   "metadata": {},
   "source": [
    "To summarize, observational evidence paints a consistent picture as follows:\n",
    "- Luminous baryonic matter provides less than 1 per cent of the total density.\n",
    "- Dark baryonic material, probably mostly in the form of cool gas, is the dominant form of baryonic matter, overall making around 4 per cent of the total density. \n",
    "- There is around five times as much non-baryonic dark matter as baryonic matter.\n",
    "- The cosmological constant makes the largest contribution to the total density.\n",
    "- All components added together give a density equal to, or at least extremely close to, the critical density."
   ]
  },
  {
   "cell_type": "markdown",
   "metadata": {},
   "source": [
    "### 9.2 What might the dark matter be?"
   ]
  },
  {
   "cell_type": "markdown",
   "metadata": {},
   "source": [
    "The prediction of non-baryonic dark matter is one of the boldest and most striking in all\n",
    "of cosmology, and if ultimately verified, for example by direct detection of dark matter\n",
    "particles, will be amongst cosmology’s most notable successes. Although the evidence for dark matter is regarded by most as pretty much overwhelming,\n",
    "there is no consensus as to what form it takes. An array of possibilities are discussed\n",
    "below.\n"
   ]
  },
  {
   "cell_type": "markdown",
   "metadata": {},
   "source": [
    "#### 9.2.1 Fundamental particles"
   ]
  },
  {
   "cell_type": "markdown",
   "metadata": {},
   "source": [
    "**_Things we know exist_**: The particle which we know exists and yet whose properties are\n",
    "uncertain enough to allow it to be the dark matter is the neutrino. In the Standard Model\n",
    "of particle interactions the neutrino is a massless particle, and is present in the Universe\n",
    "in great abundance, being about as numerous as photons of light. If the Standard Model\n",
    "is extended to permit the neutrinos to have a small mass, this would not affect their number density but they would have enough density to imply a\n",
    "closed universe!\n",
    "\n",
    "A light neutrino would be a type of dark matter known as hot dark matter, meaning that\n",
    "the particles have relativistic velocities for at least some fraction of the Universe’s lifetime. If the neutrino has such a mass it is believed that it could at most contribute only\n",
    "part of the matter density, with some other form of dark matter also being required.\n",
    "\n",
    "\n",
    "Another possibility is that the neutrino could be very heavy, for example comparable to\n",
    "the proton mass. This is allowed because such massive particles wouldn’t have as high\n",
    "a number density as photons, since in thermal equilibrium high-mass particles are hard\n",
    "to create. A heavy neutrino is an example of cold dark\n",
    "matter, meaning particles which have negligible velocities throughout the Universe’s\n",
    "history. Having at least some cold dark matter is desirable for structure formation, but\n",
    "a heavy neutrino is much less desirable on particle physics grounds than a light one,\n",
    "and indeed is excluded by particle physics experiments unless the neutrino has unusual\n",
    "properties.\n",
    "\n",
    "**_Things we believe mught existe:_** Particle physicists regard **supersymmetry** as the most solidly-founded extension to standard particle theory, and it has the nice property of associating a new companion particle to each of the particles we already know about. In the simplest scenarios, the **lightest supersymmetric particle (LSP)** is stable and is an excellent cold dark matter candidate. They are sometimes known as WIMPs – Weakly Interacting Massive Particles.\n",
    "\n",
    "However the LSP is not the only option for particle dark matter, and other proposed particles\n",
    "include an ultra-light particle known as the axion, ultra-heavy dark matter particles\n",
    "which might for instance be formed at the end of inflation, or particles from a ‘shadow\n",
    "universe’ which interacts with our own Universe only gravitationally.\n",
    "\n",
    "***Or***: The dark matter could be made of something completely different, which no-one\n",
    "has yet thought of. No-one has ever seen any, after all.\n"
   ]
  },
  {
   "cell_type": "markdown",
   "metadata": {},
   "source": [
    "#### 9.2.2 Compact objects"
   ]
  },
  {
   "cell_type": "markdown",
   "metadata": {},
   "source": [
    "- Black Holes: A population of primordial black holes, meaning black holes formed early\n",
    "in the Universe’s history rather than at a star’s final death throes, would act like cold dark\n",
    "matter.\n",
    "\n",
    "- MACHOs: This rather dubious acronym stands for MAssive Compact Halo Object, an\n",
    "attempt to counter the WIMP acronym sometimes used for cold dark matter particles.\n",
    "It’s a generic term for compact objects with masses not too far from stellar masses, and\n",
    "they may be baryonic or non-baryonic.\n"
   ]
  },
  {
   "cell_type": "markdown",
   "metadata": {},
   "source": [
    "### 9.3 Dark matter searches"
   ]
  },
  {
   "cell_type": "markdown",
   "metadata": {},
   "source": [
    "The worst case scenario is if the dark matter particles interact with normal matter only\n",
    "through gravitational forces. If that is true then direct detection appears completely impossible;\n",
    "the gravitational force of an individual particle with say a proton mass is minuscule.\n",
    "The cumulative gravitational force of many such particles is measurable but we want something more tangible.\n",
    "\n",
    "The best hope is if the dark matter particles interact not only gravitationally, but also\n",
    "through the weak nuclear force. Such interactions could, very reasonably, be feeble enough to have so far remainedunobserved, but yet be within the realm of possible detectability. Supersymmetric\n",
    "particles in particular are thought to be potentially detectable if they indeed make up the\n",
    "dark matter.\n",
    "\n",
    "If you collect together enough\n",
    "material, and watch it for long enough, and the interaction rate is high enough, then every\n",
    "so often a dark matter particle will interact with a proton or neutron and give away the\n",
    "secret of its presence.\n",
    "\n",
    "Many experiments of this type are now in operation around the world. The experiments are challenging, as\n",
    "a typical interaction rate is only of order once per day per kilogram of material. In order to prevent\n",
    "confusion with other interactions, such as cosmic rays or radioactive decay products, a\n",
    "typical experiment is located deep underground. The detectors are further shielded from\n",
    "radioactivity within the laboratory, and the apparatus cooled to extremely lowtemperatures."
   ]
  },
  {
   "cell_type": "code",
   "execution_count": null,
   "metadata": {},
   "outputs": [],
   "source": []
  }
 ],
 "metadata": {
  "kernelspec": {
   "display_name": "Python 3",
   "language": "python",
   "name": "python3"
  },
  "language_info": {
   "codemirror_mode": {
    "name": "ipython",
    "version": 3
   },
   "file_extension": ".py",
   "mimetype": "text/x-python",
   "name": "python",
   "nbconvert_exporter": "python",
   "pygments_lexer": "ipython3",
   "version": "3.8.1"
  }
 },
 "nbformat": 4,
 "nbformat_minor": 4
}
